{
 "cells": [
  {
   "cell_type": "code",
   "execution_count": 1,
   "metadata": {},
   "outputs": [],
   "source": [
    "import numpy as np\n",
    "import scipy as sc\n",
    "import pandas as pd\n",
    "from data.dataimport import dataimport\n",
    "from models.conformal_nex import Conformal_nex\n",
    "from models.conformal_nxg import Conformal_nxg\n",
    "from models.conformal_std import Conformal_std\n",
    "from models.forest_qr import RanForestQuantile"
   ]
  },
  {
   "cell_type": "code",
   "execution_count": 2,
   "metadata": {},
   "outputs": [
    {
     "name": "stdout",
     "output_type": "stream",
     "text": [
      "(58, 60)\n"
     ]
    }
   ],
   "source": [
    "# Import the data\n",
    "inp_data, forecasts, measurements, fcdates = dataimport()"
   ]
  },
  {
   "cell_type": "code",
   "execution_count": 3,
   "metadata": {},
   "outputs": [
    {
     "name": "stdout",
     "output_type": "stream",
     "text": [
      "0.9705882352941176\n"
     ]
    }
   ],
   "source": [
    "conf_nex = Conformal_nex(0.99)\n",
    "conf_nex.calibrate(inp_data[0],forecasts[0],measurements[0])\n",
    "pred = np.empty((len(forecasts[1]),2))\n",
    "for i in range(len(forecasts[1])):\n",
    "    pred[i,:] = conf_nex.predict(inp_data[1][i,:],forecasts[1][i])\n",
    "print(str(np.sum((np.squeeze(measurements[1]) > pred[:,0]) & (np.squeeze(measurements[1]) < pred[:,1]))/len(forecasts[1])))"
   ]
  },
  {
   "cell_type": "code",
   "execution_count": 4,
   "metadata": {},
   "outputs": [
    {
     "name": "stdout",
     "output_type": "stream",
     "text": [
      "0.9558823529411765\n"
     ]
    }
   ],
   "source": [
    "conf_std = Conformal_std()\n",
    "conf_std.calibrate(inp_data[0],forecasts[0],measurements[0])\n",
    "pred = np.empty((len(forecasts[1]),2))\n",
    "for i in range(len(forecasts[1])):\n",
    "    pred[i,:] = conf_std.predict(inp_data[1][i,:],forecasts[1][i])\n",
    "print(str(np.sum((np.squeeze(measurements[1]) > pred[:,0]) & (np.squeeze(measurements[1]) < pred[:,1]))/len(forecasts[1])))"
   ]
  },
  {
   "cell_type": "code",
   "execution_count": 5,
   "metadata": {},
   "outputs": [
    {
     "name": "stdout",
     "output_type": "stream",
     "text": [
      "0.9852941176470589\n"
     ]
    }
   ],
   "source": [
    "conf_nxg = Conformal_nxg(0.98, 0.95, np.array([0.01, 0.01]), 2)\n",
    "conf_nxg.calibrate(inp_data[0],forecasts[0],measurements[0])\n",
    "pred = np.empty((len(forecasts[1]),2))\n",
    "for i in range(len(forecasts[1])):\n",
    "    pred[i,:] =conf_nxg.predict(inp_data[1][i,:],forecasts[1][i])\n",
    "print(str(np.sum((np.squeeze(measurements[1]) > pred[:,0]) & (np.squeeze(measurements[1]) < pred[:,1]))/len(forecasts[1])))"
   ]
  },
  {
   "cell_type": "code",
   "execution_count": 6,
   "metadata": {},
   "outputs": [
    {
     "name": "stdout",
     "output_type": "stream",
     "text": [
      "0.9558823529411765\n"
     ]
    }
   ],
   "source": [
    "fqr = RanForestQuantile()\n",
    "fqr.calibrate(inp_data[0],forecasts[0],measurements[0])\n",
    "pred = np.empty((len(forecasts[1]),2))\n",
    "for i in range(len(forecasts[1])):\n",
    "    pred[i,:] =fqr.predict(inp_data[1][i,:],forecasts[1][i])\n",
    "print(str(np.sum((np.squeeze(measurements[1]) > pred[:,0]) & (np.squeeze(measurements[1]) < pred[:,1]))/len(forecasts[1])))"
   ]
  }
 ],
 "metadata": {
  "kernelspec": {
   "display_name": "thesis",
   "language": "python",
   "name": "python3"
  },
  "language_info": {
   "codemirror_mode": {
    "name": "ipython",
    "version": 3
   },
   "file_extension": ".py",
   "mimetype": "text/x-python",
   "name": "python",
   "nbconvert_exporter": "python",
   "pygments_lexer": "ipython3",
   "version": "3.11.0"
  },
  "orig_nbformat": 4,
  "vscode": {
   "interpreter": {
    "hash": "4151414e0465f31972d107ecee9d110c4469b115f6f76e7210bc32ee47e86698"
   }
  }
 },
 "nbformat": 4,
 "nbformat_minor": 2
}
